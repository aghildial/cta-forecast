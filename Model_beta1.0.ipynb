{
 "cells": [
  {
   "cell_type": "code",
   "execution_count": 63,
   "metadata": {},
   "outputs": [],
   "source": [
    "import numpy as np\n",
    "import pandas as pd\n",
    "import matplotlib.pyplot as plt\n",
    "import seaborn as sns\n",
    "from scipy.stats import f\n",
    "\n",
    "\n",
    "from statsmodels.tsa.arima_model import ARMA\n",
    "from statsmodels.tsa.stattools import adfuller, arma_order_select_ic\n",
    "\n",
    "import warnings\n",
    "warnings.filterwarnings(\"ignore\")"
   ]
  },
  {
   "cell_type": "code",
   "execution_count": 64,
   "metadata": {},
   "outputs": [],
   "source": [
    "#LOADING DATA SET\n",
    "\n",
    "df = pd.read_csv(\"CTA_data.csv\")\n",
    "ts = df[['service_date','total_rides']]\n",
    "ts['date'] = pd.to_datetime(ts['service_date'])\n",
    "ts.drop(columns = ['service_date'], axis = 1, inplace = True)\n",
    "ts.set_index('date', inplace = True)"
   ]
  },
  {
   "cell_type": "code",
   "execution_count": 65,
   "metadata": {},
   "outputs": [],
   "source": [
    "ts_M = ts.resample('M').mean()"
   ]
  },
  {
   "cell_type": "code",
   "execution_count": 66,
   "metadata": {},
   "outputs": [
    {
     "name": "stdout",
     "output_type": "stream",
     "text": [
      "Best model is ARMA(6,5)\n"
     ]
    }
   ],
   "source": [
    "#f-test\n",
    "def f_test(a,b,c):\n",
    "    f_stat = (a-b/4)/(b/210-(4*c+4))\n",
    "    pvalue = f.cdf(f_stat,4,210-(4*c+4))\n",
    "    \n",
    "    return 1-pvalue\n",
    "    \n",
    "\n",
    "#MSE function\n",
    "def mse(res):\n",
    "    error = 0\n",
    "    for r in res:\n",
    "        error += r**2\n",
    "    return error\n",
    "\n",
    "err = [0]\n",
    "\n",
    "#test function\n",
    "for n in range(1,5):\n",
    "    model = ARMA(ts_M, order=(2*n,2*n-1))\n",
    "    results = model.fit(trend='nc', method='mle')\n",
    "    \n",
    "    err.append(mse(results.resid))\n",
    "    \n",
    "    if(n>1):\n",
    "        value = f_test(err[n-1],err[n],n)\n",
    "        if(value > 0.05):\n",
    "            break\n",
    "            \n",
    "            \n",
    "            \n",
    "print(\"Best model is ARMA(%s,%s)\"%(2*(n-1),2*(n-1)-1))\n",
    "    "
   ]
  },
  {
   "cell_type": "code",
   "execution_count": null,
   "metadata": {},
   "outputs": [],
   "source": []
  }
 ],
 "metadata": {
  "kernelspec": {
   "display_name": "Python 3",
   "language": "python",
   "name": "python3"
  },
  "language_info": {
   "codemirror_mode": {
    "name": "ipython",
    "version": 3
   },
   "file_extension": ".py",
   "mimetype": "text/x-python",
   "name": "python",
   "nbconvert_exporter": "python",
   "pygments_lexer": "ipython3",
   "version": "3.6.7"
  }
 },
 "nbformat": 4,
 "nbformat_minor": 2
}
